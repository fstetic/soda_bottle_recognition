{
  "nbformat": 4,
  "nbformat_minor": 0,
  "metadata": {
    "colab": {
      "name": "models.ipynb",
      "provenance": [],
      "collapsed_sections": []
    },
    "kernelspec": {
      "display_name": "Python 3",
      "name": "python3"
    }
  },
  "cells": [
    {
      "cell_type": "markdown",
      "metadata": {
        "id": "vBBaNlJHcDJw"
      },
      "source": [
        "# Importing libraries\n",
        "\n",
        "Files need to be saved on Google Drive\n",
        "\n"
      ]
    },
    {
      "cell_type": "code",
      "metadata": {
        "colab": {
          "base_uri": "https://localhost:8080/"
        },
        "id": "-hIlz48K0CKE",
        "outputId": "4cec5345-52d8-44bd-a4e0-4364982aa4fe"
      },
      "source": [
        "import pandas as pd\n",
        "import tensorflow as tf\n",
        "from sklearn.model_selection import train_test_split\n",
        "from google.colab import drive\n",
        "drive.mount('/content/drive')"
      ],
      "execution_count": null,
      "outputs": [
        {
          "output_type": "stream",
          "text": [
            "Mounted at /content/drive\n"
          ],
          "name": "stdout"
        }
      ]
    },
    {
      "cell_type": "markdown",
      "metadata": {
        "id": "dzAL_AVDciCU"
      },
      "source": [
        "# Getting Tensorflow Dataset objects\n",
        "Load images to train, test, validate Dataset objects and make DataFrameIterator generator object from them "
      ]
    },
    {
      "cell_type": "code",
      "metadata": {
        "id": "ZgyqiyxvoW_o"
      },
      "source": [
        "def split(data, train_size=0.6, test_size=0.2, validate_size=0.2):\n",
        "\ttrain, test = train_test_split(data, test_size=test_size)\n",
        " \t# calculate ratio of validation set and what's left after separating test set\n",
        "\tvalidate_ratio = validate_size / (train_size + validate_size)\n",
        "\ttrain, validate = train_test_split(train, test_size=validate_ratio)\n",
        "\treturn train, test, validate"
      ],
      "execution_count": null,
      "outputs": []
    },
    {
      "cell_type": "code",
      "metadata": {
        "colab": {
          "base_uri": "https://localhost:8080/"
        },
        "id": "0zrgFaQNcswQ",
        "outputId": "e05bd92d-130d-4b29-c720-4caf345bb61c"
      },
      "source": [
        "# get dataframe object\n",
        "df = pd.read_csv('/content/drive/My Drive/Soda_Bottles/full.csv')\n",
        "\n",
        "train, test, validate = split(df)\n",
        "\n",
        "# https://stackoverflow.com/questions/63761717/load-image-dataset\n",
        "# Data augmentation pipeline\n",
        "# using normalization, rotation for 90 degrees, shifting 20% on any side, changing brightness by 0.5 up or down, and zooming in or out 30%\n",
        "train_datagen = tf.keras.preprocessing.image.ImageDataGenerator(rescale=1./255, rotation_range=90, width_shift_range=0.2, height_shift_range=0.2, brightness_range=(0.5, 1.5), zoom_range=0.3)\n",
        "# test and validate have only normalization\n",
        "test_validate_datagen = tf.keras.preprocessing.image.ImageDataGenerator(rescale=1./255)\n",
        "\n",
        "# default image shape is (256, 256)\n",
        "train_ds = train_datagen.flow_from_dataframe(train, directory='/content/drive/My Drive/Soda_Bottles/', x_col='Path', y_col='Label')\n",
        "test_ds = test_validate_datagen.flow_from_dataframe(test, directory='/content/drive/My Drive/Soda_Bottles/', x_col='Path', y_col='Label')\n",
        "validate_ds = test_validate_datagen.flow_from_dataframe(validate, directory='/content/drive/My Drive/Soda_Bottles/', x_col='Path', y_col='Label')"
      ],
      "execution_count": null,
      "outputs": [
        {
          "output_type": "stream",
          "text": [
            "Found 3969 validated image filenames belonging to 8 classes.\n",
            "Found 1323 validated image filenames belonging to 8 classes.\n",
            "Found 1323 validated image filenames belonging to 8 classes.\n"
          ],
          "name": "stdout"
        }
      ]
    },
    {
      "cell_type": "markdown",
      "metadata": {
        "id": "JrkbZasql6Aw"
      },
      "source": [
        "# Define architecture and train custom model\n",
        "\n",
        "Will be using basic Convolution-Pooling-Fully connected architecture"
      ]
    },
    {
      "cell_type": "code",
      "metadata": {
        "colab": {
          "base_uri": "https://localhost:8080/"
        },
        "id": "QkUOjm5S194I",
        "outputId": "ece7f29e-2c4c-447b-8926-37da5fc7efe1"
      },
      "source": [
        "# stack of layers\n",
        "model = tf.keras.models.Sequential()\n",
        "# 32 feature maps made with 5x5 kernel over input image\n",
        "model.add(tf.keras.layers.Conv2D(32, (5,5), activation='relu', input_shape=(256, 256, 3)))\n",
        "# pooling to reduce dimensions in half, left with 126x126x32\n",
        "model.add(tf.keras.layers.MaxPool2D(pool_size=(2,2)))\n",
        "model.add(tf.keras.layers.Conv2D(64, (3,3), activation='relu'))\n",
        "# dimensionality reduction, getting 32 feature maps from those 64 from previous conv layer\n",
        "# combats overfitting and reduces number of parameters\n",
        "model.add(tf.keras.layers.Conv2D(32, (1,1), activation='relu'))\n",
        "# pooling to reduce dimensions in half, left with 62x62x32\n",
        "model.add(tf.keras.layers.MaxPool2D(pool_size=(2,2)))\n",
        "model.add(tf.keras.layers.Flatten())\n",
        "# drops 30% of weights to 0, used for overfitting reduction\n",
        "model.add(tf.keras.layers.Dropout(0.3))\n",
        "# fully connected layer that makes sense of the features extracted by previous layers\n",
        "model.add(tf.keras.layers.Dense(128, activation='relu'))\n",
        "# softmax layer for classification\n",
        "model.add(tf.keras.layers.Dense(8, activation='softmax'))\n",
        "\n",
        "# stop when validation loss doesn't decrease more than 0.01 in 3 consecutive epochs\n",
        "callback = tf.keras.callbacks.EarlyStopping(monitor='val_loss', patience=3, min_delta=0.01)\n",
        "model.summary()"
      ],
      "execution_count": null,
      "outputs": [
        {
          "output_type": "stream",
          "text": [
            "Model: \"sequential\"\n",
            "_________________________________________________________________\n",
            "Layer (type)                 Output Shape              Param #   \n",
            "=================================================================\n",
            "conv2d (Conv2D)              (None, 252, 252, 32)      2432      \n",
            "_________________________________________________________________\n",
            "max_pooling2d (MaxPooling2D) (None, 126, 126, 32)      0         \n",
            "_________________________________________________________________\n",
            "conv2d_1 (Conv2D)            (None, 124, 124, 64)      18496     \n",
            "_________________________________________________________________\n",
            "conv2d_2 (Conv2D)            (None, 124, 124, 32)      2080      \n",
            "_________________________________________________________________\n",
            "max_pooling2d_1 (MaxPooling2 (None, 62, 62, 32)        0         \n",
            "_________________________________________________________________\n",
            "flatten (Flatten)            (None, 123008)            0         \n",
            "_________________________________________________________________\n",
            "dropout (Dropout)            (None, 123008)            0         \n",
            "_________________________________________________________________\n",
            "dense (Dense)                (None, 128)               15745152  \n",
            "_________________________________________________________________\n",
            "dense_1 (Dense)              (None, 8)                 1032      \n",
            "=================================================================\n",
            "Total params: 15,769,192\n",
            "Trainable params: 15,769,192\n",
            "Non-trainable params: 0\n",
            "_________________________________________________________________\n"
          ],
          "name": "stdout"
        }
      ]
    },
    {
      "cell_type": "code",
      "metadata": {
        "id": "1e9E2DIdoygk"
      },
      "source": [
        "model.compile(optimizer='adam',\n",
        "              loss='categorical_crossentropy',\n",
        "              metrics=['accuracy'])\n",
        "\n",
        "model.fit(train_ds, epochs=40, validation_data=validate_ds, callbacks=[callback])\n",
        "# accidentaly ran the cell again and lost output :(\n",
        "# trained for ~25 epochs\n",
        "# test -> loss: 0.2549, accuracy: 0.9184\n",
        "model.evaluate(test_ds)"
      ],
      "execution_count": null,
      "outputs": []
    },
    {
      "cell_type": "code",
      "metadata": {
        "id": "dlcv1UgJP6kg"
      },
      "source": [
        "# save good enough model\n",
        "model.save('/content/drive/My Drive/custom_model_2')"
      ],
      "execution_count": null,
      "outputs": []
    },
    {
      "cell_type": "markdown",
      "metadata": {
        "id": "O6RJOGYWQCv8"
      },
      "source": [
        "# Transfer learning\n",
        "I'll be using InceptionV3 because it has good accuracies with acceptable number of parameters https://keras.io/api/applications/\n",
        "\n",
        "It will be used as a feature extractor -> only the convolutional base will be used on top of which a new classifier will be trained.\n",
        "\n",
        "After that it will be fine tuned -> some of the convolutional layers will also be trained"
      ]
    },
    {
      "cell_type": "code",
      "metadata": {
        "id": "xA1kLejQQNWE"
      },
      "source": [
        "# https://paperswithcode.com/method/inception-v3\n",
        "inception_model = tf.keras.applications.InceptionV3(include_top=False, input_shape=(256,256,3), pooling='avg')\n",
        "# freezing the convolutional base\n",
        "inception_model.trainable = False\n",
        "# define one more fully connected layer\n",
        "fcl_layer = tf.keras.layers.Dense(512, activation='relu')\n",
        "# define classification layer\n",
        "prediction_layer = tf.keras.layers.Dense(8, activation='softmax')\n",
        "# define preprocessing layer which rescales pixels to [-1,1]\n",
        "preprocess_data = tf.keras.applications.inception_v3.preprocess_input"
      ],
      "execution_count": null,
      "outputs": []
    },
    {
      "cell_type": "code",
      "metadata": {
        "id": "X_DhOzzE0EN8",
        "colab": {
          "base_uri": "https://localhost:8080/"
        },
        "outputId": "cf75278f-552a-480c-c9aa-711dbb3a5e92"
      },
      "source": [
        "# build a model\n",
        "# input layer\n",
        "inputs = tf.keras.Input(shape=(256, 256, 3))\n",
        "# layer with inception preprocessing\n",
        "x = preprocess_data(inputs)\n",
        "# inception convolutional base\n",
        "x = inception_model(x)\n",
        "# fully connected layer\n",
        "x = fcl_layer(x)\n",
        "# dropping weights to 0\n",
        "x = tf.keras.layers.Dropout(0.3)(x)\n",
        "# classification, softmax layer\n",
        "outputs = prediction_layer(x)\n",
        "# put all of that together\n",
        "tl_model = tf.keras.Model(inputs, outputs)\n",
        "\n",
        "tl_model.compile(optimizer='adam',\n",
        "              loss='categorical_crossentropy',\n",
        "              metrics=['accuracy'])\n",
        "\n",
        "tl_model.summary()"
      ],
      "execution_count": null,
      "outputs": [
        {
          "output_type": "stream",
          "text": [
            "Model: \"model_15\"\n",
            "_________________________________________________________________\n",
            "Layer (type)                 Output Shape              Param #   \n",
            "=================================================================\n",
            "input_31 (InputLayer)        [(None, 256, 256, 3)]     0         \n",
            "_________________________________________________________________\n",
            "tf.math.truediv_16 (TFOpLamb (None, 256, 256, 3)       0         \n",
            "_________________________________________________________________\n",
            "tf.math.subtract_16 (TFOpLam (None, 256, 256, 3)       0         \n",
            "_________________________________________________________________\n",
            "inception_v3 (Functional)    (None, 2048)              21802784  \n",
            "_________________________________________________________________\n",
            "dense_19 (Dense)             (None, 512)               1049088   \n",
            "_________________________________________________________________\n",
            "dropout_9 (Dropout)          (None, 512)               0         \n",
            "_________________________________________________________________\n",
            "dense_20 (Dense)             (None, 8)                 4104      \n",
            "=================================================================\n",
            "Total params: 22,855,976\n",
            "Trainable params: 1,053,192\n",
            "Non-trainable params: 21,802,784\n",
            "_________________________________________________________________\n"
          ],
          "name": "stdout"
        }
      ]
    },
    {
      "cell_type": "code",
      "metadata": {
        "colab": {
          "base_uri": "https://localhost:8080/"
        },
        "id": "UawQWSEd99ZY",
        "outputId": "3f127925-fc9d-4a3c-db79-b070f4f85c2f"
      },
      "source": [
        "history = tl_model.fit(train_ds, epochs=8, validation_data=validate_ds)\n",
        "\n",
        "tl_model.evaluate(test_ds)"
      ],
      "execution_count": null,
      "outputs": [
        {
          "output_type": "stream",
          "text": [
            "Epoch 1/8\n",
            "125/125 [==============================] - 119s 914ms/step - loss: 2.1517 - accuracy: 0.3100 - val_loss: 1.1695 - val_accuracy: 0.5193\n",
            "Epoch 2/8\n",
            "125/125 [==============================] - 112s 896ms/step - loss: 1.1198 - accuracy: 0.5464 - val_loss: 0.9879 - val_accuracy: 0.6168\n",
            "Epoch 3/8\n",
            "125/125 [==============================] - 111s 884ms/step - loss: 1.0460 - accuracy: 0.5500 - val_loss: 0.8719 - val_accuracy: 0.6659\n",
            "Epoch 4/8\n",
            "125/125 [==============================] - 110s 880ms/step - loss: 0.9280 - accuracy: 0.6148 - val_loss: 0.8833 - val_accuracy: 0.6206\n",
            "Epoch 5/8\n",
            "125/125 [==============================] - 111s 885ms/step - loss: 0.8498 - accuracy: 0.6344 - val_loss: 0.7638 - val_accuracy: 0.6704\n",
            "Epoch 6/8\n",
            "125/125 [==============================] - 110s 882ms/step - loss: 0.8222 - accuracy: 0.6508 - val_loss: 0.6510 - val_accuracy: 0.7370\n",
            "Epoch 7/8\n",
            "125/125 [==============================] - 111s 887ms/step - loss: 0.8034 - accuracy: 0.6770 - val_loss: 0.7028 - val_accuracy: 0.6886\n",
            "Epoch 8/8\n",
            "125/125 [==============================] - 111s 888ms/step - loss: 0.7361 - accuracy: 0.7042 - val_loss: 0.6376 - val_accuracy: 0.7120\n",
            "42/42 [==============================] - 12s 284ms/step - loss: 0.6379 - accuracy: 0.7241\n"
          ],
          "name": "stdout"
        },
        {
          "output_type": "execute_result",
          "data": {
            "text/plain": [
              "[0.637934148311615, 0.7241118550300598]"
            ]
          },
          "metadata": {
            "tags": []
          },
          "execution_count": 84
        }
      ]
    },
    {
      "cell_type": "code",
      "metadata": {
        "colab": {
          "base_uri": "https://localhost:8080/"
        },
        "id": "xe-37GLDEvss",
        "outputId": "70c0d45f-3177-4a92-a920-a4564e8223c1"
      },
      "source": [
        "# test -> loss: 0.6379, acc: 0.7241\n",
        "# fine tune it\n",
        "inception_model.trainable = True\n",
        "\n",
        "print(\"Number of layers:\", len(inception_model.layers)) # 312\n",
        "\n",
        "# Freeze all the layers before the 212th layer\n",
        "for layer in inception_model.layers[:212]:\n",
        "  layer.trainable =  False\n",
        "\n",
        "tl_model.compile(optimizer='adam',\n",
        "              loss='categorical_crossentropy',\n",
        "              metrics=['accuracy'])"
      ],
      "execution_count": null,
      "outputs": [
        {
          "output_type": "stream",
          "text": [
            "Number of layers: 312\n"
          ],
          "name": "stdout"
        }
      ]
    },
    {
      "cell_type": "code",
      "metadata": {
        "colab": {
          "base_uri": "https://localhost:8080/"
        },
        "id": "9V9mBoMwGaN4",
        "outputId": "d05ecb83-1d10-4db8-94c4-351f3584e27c"
      },
      "source": [
        "tl_model.fit(train_ds,epochs=12, initial_epoch=history.epoch[-1], validation_data=validate_ds)\n",
        "\n",
        "tl_model.evaluate(test_ds) # loss: 0.2512, accuracy: 0.9116"
      ],
      "execution_count": null,
      "outputs": [
        {
          "output_type": "stream",
          "text": [
            "Epoch 8/12\n",
            "125/125 [==============================] - 124s 931ms/step - loss: 0.7641 - accuracy: 0.6944 - val_loss: 1.7632 - val_accuracy: 0.6795\n",
            "Epoch 9/12\n",
            "125/125 [==============================] - 114s 911ms/step - loss: 0.3025 - accuracy: 0.8678 - val_loss: 0.1855 - val_accuracy: 0.9282\n",
            "Epoch 10/12\n",
            "125/125 [==============================] - 114s 908ms/step - loss: 0.2544 - accuracy: 0.8938 - val_loss: 0.2957 - val_accuracy: 0.8776\n",
            "Epoch 11/12\n",
            "125/125 [==============================] - 114s 911ms/step - loss: 0.2471 - accuracy: 0.9041 - val_loss: 0.1594 - val_accuracy: 0.9410\n",
            "Epoch 12/12\n",
            "125/125 [==============================] - 114s 910ms/step - loss: 0.1826 - accuracy: 0.9374 - val_loss: 0.2045 - val_accuracy: 0.9244\n",
            "42/42 [==============================] - 12s 278ms/step - loss: 0.2512 - accuracy: 0.9116\n"
          ],
          "name": "stdout"
        },
        {
          "output_type": "execute_result",
          "data": {
            "text/plain": [
              "[0.2511530816555023, 0.9115646481513977]"
            ]
          },
          "metadata": {
            "tags": []
          },
          "execution_count": 86
        }
      ]
    },
    {
      "cell_type": "code",
      "metadata": {
        "colab": {
          "base_uri": "https://localhost:8080/"
        },
        "id": "7vJ1XE0ESJ6Q",
        "outputId": "a364bff7-ee4c-4211-dd04-9d1c8f3486a0"
      },
      "source": [
        "tl_model.save('/content/drive/My Drive/tl_model_1')"
      ],
      "execution_count": null,
      "outputs": [
        {
          "output_type": "stream",
          "text": [
            "INFO:tensorflow:Assets written to: /content/drive/My Drive/tl_model_1/assets\n"
          ],
          "name": "stdout"
        }
      ]
    },
    {
      "cell_type": "markdown",
      "metadata": {
        "id": "AHrRNl9ckGrI"
      },
      "source": [
        "Before comparing metrics I need to comment on logistics of two approaches.\n",
        "\n",
        "Selecting architecture was obviously easier for Transfer learning. I just looked at available models in Tensorflow and chose the one I found most suited. Criteria was best accuracy and lowest number of parameters. For custom approach I started with something I thought would be good enough and, with a lot of trail and error, came to the acceptable result.\n",
        "\n",
        "Training is also a category in which Transfer learning wins. In just 8 epoch top fully connected layer was trained and in 4 more epochs of fine tuning top 100 layers got to 90+% validation accuracy. Each epoch took slightly longer than with custom model, 90s vs 120s, but 12 vs 25 epochs is a big difference.\n",
        "\n",
        "Number of parameters is only category in which custom beats transfer: 15.8 million vs 22.9 million."
      ]
    },
    {
      "cell_type": "markdown",
      "metadata": {
        "id": "jNE4481YHpLk"
      },
      "source": [
        "# Metrics\n",
        "\n",
        "Comparing resulting metrics of both approaches"
      ]
    },
    {
      "cell_type": "code",
      "metadata": {
        "id": "H2tEN1J7fll0"
      },
      "source": [
        "# load the models\n",
        "model = tf.keras.models.load_model('/content/drive/My Drive/custom_model_2')\n",
        "tl_model = tf.keras.models.load_model('/content/drive/My Drive/tl_model_1')"
      ],
      "execution_count": null,
      "outputs": []
    },
    {
      "cell_type": "code",
      "metadata": {
        "id": "pQ3AS4uJHinQ"
      },
      "source": [
        "import numpy as np\n",
        "# combine test and validate sets for calculating metrics\n",
        "# numpy matrix of images\n",
        "metrics_X = np.empty(shape=(2646, 256, 256, 3))\n",
        "# numpy matrix of one hot encoded labels\n",
        "metrics_y = np.empty(shape=(2646, 8))\n",
        "\n",
        "# fill them up\n",
        "print('Test set')\n",
        "counter = 0\n",
        "\n",
        "for img, lbl in test_ds:\n",
        "  # batch of 32\n",
        "  print(counter)\n",
        "  if counter >= 1323:\n",
        "    # got to explicitly tell to stop or iterates indefinitely\n",
        "    break\n",
        "  for img_, lbl_ in zip(img, lbl):\n",
        "    metrics_X[counter] = img_\n",
        "    metrics_y[counter] = lbl_\n",
        "    counter +=1\n",
        "\n",
        "print('Validate set')\n",
        "for img, lbl in validate_ds:\n",
        "  # batch of 32\n",
        "  print(counter)\n",
        "  if counter >= 2646:\n",
        "    break\n",
        "  for img_, lbl_ in zip(img, lbl):\n",
        "    metrics_X[counter] = img_\n",
        "    metrics_y[counter] = lbl_\n",
        "    counter +=1"
      ],
      "execution_count": null,
      "outputs": []
    },
    {
      "cell_type": "code",
      "metadata": {
        "colab": {
          "base_uri": "https://localhost:8080/",
          "height": 281
        },
        "id": "aVgcuNcRPHjw",
        "outputId": "c808c62a-9dff-4b2d-94b3-b42dc3eeb979"
      },
      "source": [
        "# plot classes\n",
        "import matplotlib.pyplot as plt\n",
        "\n",
        "labels = ['M.Beer', 'MD.Diet', 'MD.Orig', 'P:Cherry', 'P.diet', 'P.Orig', 'P.Rsugar', 'P.Zero']\n",
        "n, counts = np.unique(metrics_y, return_counts=True)\n",
        "\n",
        "x = np.arange(len(labels))  # the label locations\n",
        "width = 0.35  # the width of the bars\n",
        "\n",
        "fig, ax = plt.subplots(figsize=(8,4))\n",
        "ax.bar(x - width/2, counts, width, label='Classes')\n",
        "\n",
        "ax.set_ylabel('Number of images')\n",
        "ax.set_title('Number of images for each class')\n",
        "ax.set_xticks(x)\n",
        "ax.set_xticklabels(labels)\n",
        "ax.legend()\n",
        "plt.show()"
      ],
      "execution_count": null,
      "outputs": [
        {
          "output_type": "display_data",
          "data": {
            "image/png": "[encoded data removed]",
            "text/plain": [
              "<Figure size 576x288 with 1 Axes>"
            ]
          },
          "metadata": {
            "tags": [],
            "needs_background": "light"
          }
        }
      ]
    },
    {
      "cell_type": "markdown",
      "metadata": {
        "id": "52Gw73bkRMGk"
      },
      "source": [
        "Biggest difference is between MD.Diet and P.Cherry, 54 images, but mostly the classes are evenly split"
      ]
    },
    {
      "cell_type": "code",
      "metadata": {
        "id": "bNaVgFVsh9ck"
      },
      "source": [
        "# get predictions\n",
        "model_pred = model.predict(metrics_X)\n",
        "tl_model_pred = tl_model.predict(metrics_X)\n",
        "\n",
        "# free the RAM after getting predictions\n",
        "del metrics_X"
      ],
      "execution_count": null,
      "outputs": []
    },
    {
      "cell_type": "markdown",
      "metadata": {
        "id": "UoKYLzdz_KqQ"
      },
      "source": [
        "Real labels are saved in a $2646\\times 8$ numpy matrix _metrics_y_\n",
        "\n",
        "_model_pred_ and _tl_model_pred_ are $2646\\times 8$ numpy matrices of predictions from each model\n",
        "\n",
        "For sklearn we need them in integer form, not one hot encoded"
      ]
    },
    {
      "cell_type": "code",
      "metadata": {
        "id": "ZpvelvnHBNw4"
      },
      "source": [
        "# perform one hot to integer label conversion\n",
        "metrics_y = np.argmax(metrics_y, axis=1)\n",
        "model_pred = np.argmax(model_pred, axis=1)\n",
        "tl_model_pred = np.argmax(tl_model_pred, axis=1)"
      ],
      "execution_count": null,
      "outputs": []
    },
    {
      "cell_type": "code",
      "metadata": {
        "id": "5tDmwWmOw5O4"
      },
      "source": [
        "from sklearn.metrics import classification_report\n",
        "# returns dict with F1 score, precision and recall for each class\n",
        "# also overall accuracy, macro average f1, precision and recall, and weighted average f1, precision and recall\n",
        "model_dict = classification_report(metrics_y, model_pred, output_dict=True, \n",
        "  target_names=['M.Beer', 'MD.Diet', 'MD.Orig', 'P:Cherry', 'P.diet', 'P.Orig', 'P.Rsugar', 'P.Zero'])\n",
        "\n",
        "tl_model_dict = classification_report(metrics_y, tl_model_pred, output_dict=True, \n",
        "  target_names=['M.Beer', 'MD.Diet', 'MD.Orig', 'P:Cherry', 'P.diet', 'P.Orig', 'P.Rsugar', 'P.Zero'])"
      ],
      "execution_count": null,
      "outputs": []
    },
    {
      "cell_type": "code",
      "metadata": {
        "colab": {
          "base_uri": "https://localhost:8080/",
          "height": 925
        },
        "id": "dHw_78JnET6I",
        "outputId": "71738136-fd59-421c-ca9b-2e12661c6db1"
      },
      "source": [
        "# https://matplotlib.org/stable/gallery/lines_bars_and_markers/barchart.html#sphx-glr-gallery-lines-bars-and-markers-barchart-py\n",
        "\n",
        "# list with values for f1-score, precision, and recall respectively\n",
        "model_results = [[], [], []]\n",
        "tl_results = [[], [], []]\n",
        "\n",
        "for k in labels:\n",
        "    model_results[0].append(model_dict[k]['f1-score'])\n",
        "    tl_results[0].append(tl_model_dict[k]['f1-score'])\n",
        "\n",
        "    model_results[1].append(model_dict[k]['precision'])\n",
        "    tl_results[1].append(tl_model_dict[k]['precision'])\n",
        "\n",
        "    model_results[2].append(model_dict[k]['recall'])\n",
        "    tl_results[2].append(tl_model_dict[k]['recall'])\n",
        "\n",
        "def autolabel(rects, ax_):\n",
        "    \"\"\"Attach a text label above each bar in *rects* on subplot *ax_*, displaying its height.\"\"\"\n",
        "    for rect in rects:\n",
        "        height = rect.get_height()\n",
        "        ax_.annotate('{:.3f}'.format(height),\n",
        "                    xy=(rect.get_x() + rect.get_width() / 2, height),\n",
        "                    xytext=(0, 3),  # 3 points vertical offset\n",
        "                    textcoords=\"offset points\",\n",
        "                    ha='center', va='bottom')\n",
        "\n",
        "fig, ax = plt.subplots(3, 1, figsize=(18,14))\n",
        "for i in range(3):\n",
        "  rect1 = ax[i].bar(x - width/2, model_results[i], width)\n",
        "  rect2 = ax[i].bar(x + width/2, tl_results[i], width)\n",
        "  ax[i].set_ylabel('Scores')\n",
        "  ax[i].set_xticks(x)\n",
        "  ax[i].set_xticklabels(labels)\n",
        "  autolabel(rect1, ax[i])\n",
        "  autolabel(rect2, ax[i])\n",
        "\n",
        "fig.legend(['Custom model', 'Transfer learning'])\n",
        "ax[0].set_title('F1-scores')\n",
        "ax[1].set_title('Precision')\n",
        "ax[2].set_title('Recall')\n",
        "\n",
        "plt.show()"
      ],
      "execution_count": null,
      "outputs": [
        {
          "output_type": "display_data",
          "data": {
            "image/png": "[encoded data removed]",
            "text/plain": [
              "<Figure size 1296x1008 with 3 Axes>"
            ]
          },
          "metadata": {
            "tags": [],
            "needs_background": "light"
          }
        }
      ]
    },
    {
      "cell_type": "markdown",
      "metadata": {
        "id": "W5f9bbImRfEo"
      },
      "source": [
        "F1-score is [harmonic mean](https://en.wikipedia.org/wiki/Harmonic_mean) of Precision and Recall. It rewards (higher score) models which have similar Precision and Recall.\n",
        "\n",
        "Precision is ratio of correct true predictions in all true predicted.\n",
        "\n",
        "Recall is ratio of correct true predictions in all true examples.\n",
        "\n",
        "Transfer learning model has better F1-scores for 5/8 classes, which is partly expected. The worst result is on the least represented class.\n",
        "\n",
        "Custom model has better F1-scores for 3/8 classes. Worst result is on the most represented class.\n",
        "\n",
        "Lowest Transfer learning values are still higher than Custom model."
      ]
    },
    {
      "cell_type": "code",
      "metadata": {
        "colab": {
          "base_uri": "https://localhost:8080/"
        },
        "id": "hY-aIMovRjUg",
        "outputId": "bd272cad-fdd2-474b-f918-1d29f531bfb3"
      },
      "source": [
        "# list with values for accuracy, macro avg f1, precision and recall, and weighted avg f1, precision and recall\n",
        "print(\"Custom model end accuracy: {:.2f}% vs Transfer learning end accuracy: {:.2f}%\".format(model_dict['accuracy']*100, tl_model_dict['accuracy']*100))\n",
        "\n",
        "for k in ['macro avg', 'weighted avg']:\n",
        "  print(k)\n",
        "  print(\"My model: f1-score: {:.4f}, precision: {:.4f}, recall: {:.4f}\".format(model_dict[k]['f1-score'], model_dict[k]['precision'], model_dict[k]['recall']))\n",
        "  print(\"TL model: f1-score: {:.4f}, precision: {:.4f}, recall: {:.4f}\".format(tl_model_dict[k]['f1-score'], tl_model_dict[k]['precision'], tl_model_dict[k]['recall']))"
      ],
      "execution_count": null,
      "outputs": [
        {
          "output_type": "stream",
          "text": [
            "Custom model end accuracy: 84.85% vs Transfer learning end accuracy: 92.18%\n",
            "macro avg\n",
            "My model: f1-score: 0.8439, precision: 0.8779, recall: 0.8549\n",
            "TL model: f1-score: 0.9159, precision: 0.9303, recall: 0.9180\n",
            "weighted avg\n",
            "My model: f1-score: 0.8382, precision: 0.8756, recall: 0.8485\n",
            "TL model: f1-score: 0.9192, precision: 0.9321, recall: 0.9218\n"
          ],
          "name": "stdout"
        }
      ]
    },
    {
      "cell_type": "markdown",
      "metadata": {
        "id": "VPJ9WEhTU0CU"
      },
      "source": [
        "Transfer learning approach has higher overall accuracy, which was expected because it is a complex and more expressive network. \n",
        "\n",
        "Both models have pretty even macro and weighted metrics which proves that the dataset is balanced. Transfer model still beats Custom in every metric.\n"
      ]
    },
    {
      "cell_type": "markdown",
      "metadata": {
        "id": "uYpaQXuUsa8w"
      },
      "source": [
        "# Closing words\n",
        "\n",
        "Transfer learning has it's drawbacks, but, with todays libraries like Tensorflow and Pytorch, it's a good approach for any project that just aims for end result. Those models require less training and less knowledge of how they work.\n",
        "\n",
        "But making custom architecture is more satisfying and has more learning potential by making you think about why each layer is where it is."
      ]
    }
  ]
}